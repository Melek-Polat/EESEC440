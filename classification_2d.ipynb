{
  "nbformat": 4,
  "nbformat_minor": 0,
  "metadata": {
    "colab": {
      "name": "classification_2d.ipynb",
      "provenance": [],
      "authorship_tag": "ABX9TyMWmqkpkfQQgYPG3dc61vKo",
      "include_colab_link": true
    },
    "kernelspec": {
      "name": "python3",
      "display_name": "Python 3"
    },
    "language_info": {
      "name": "python"
    }
  },
  "cells": [
    {
      "cell_type": "markdown",
      "metadata": {
        "id": "view-in-github",
        "colab_type": "text"
      },
      "source": [
        "<a href=\"https://colab.research.google.com/github/pltmelek/EESEC440/blob/main/classification_2d.ipynb\" target=\"_parent\"><img src=\"https://colab.research.google.com/assets/colab-badge.svg\" alt=\"Open In Colab\"/></a>"
      ]
    },
    {
      "cell_type": "markdown",
      "metadata": {
        "id": "evphUMp7AHOc"
      },
      "source": [
        "En başta kütüphaneleri dahil ediyoruz.\n",
        "\n",
        "First we import the libraries."
      ]
    },
    {
      "cell_type": "code",
      "metadata": {
        "id": "PpWXj17iAIFZ"
      },
      "source": [
        "import tensorflow as tf # Google tarafından geliştirilen TF kütüphanesi, en ciddi rakibi Facebook tarfından geliştirilen Pytorch kütüphanesi\n",
        "import matplotlib.pyplot as plt # grafik çizdirmek için\n",
        "import numpy as np # numerical python kütüphanesi\n",
        "import pandas as pd\n",
        "import sys\n",
        "from numpy import random # rasgele veri üretmek için kullanacağımız kütüphane"
      ],
      "execution_count": 3,
      "outputs": []
    },
    {
      "cell_type": "markdown",
      "metadata": {
        "id": "zY4zi-R3AP4R"
      },
      "source": [
        "Bugün bakacağımız örnekte kendimiz sentetik 2-boyutlu veri üretip ardından bu veriyi etiketleyeceğiz. Üreteceğimiz 2-boyutlu veri toplam n=1000 tane olacak. Bu veri kartezyen koordinat sistemi üzerinde x ve y eksenlerinde -1'den 1'e kadar yer alan aralıkta değer alan rasgele noktalar şeklinde düşünülebilir. Kartezyen koordinat sisteminde x ekseni x1, y ekseni ise x2 isimlendirilecek. Burada x = (x1, x2)T bizim özellik vektörümüz(feature)."
      ]
    },
    {
      "cell_type": "code",
      "metadata": {
        "id": "IUjkOvBBAhB1"
      },
      "source": [
        "n = 1000 # veri sayısı n = 20 (n = 1000 bu örnek için iyi bir seçim)\n",
        "x = 2*random.rand(n,2)-1\n",
        "#print(x)\n",
        "#print(x[0,1])"
      ],
      "execution_count": 46,
      "outputs": []
    },
    {
      "cell_type": "markdown",
      "metadata": {
        "id": "jbX-ffSvDPG7"
      },
      "source": [
        "Rasgele ürettiğimiz veriyi şimdi çizdirelim.\n",
        "\n",
        "Now let's plot the randomly generated 2d data."
      ]
    },
    {
      "cell_type": "code",
      "metadata": {
        "colab": {
          "base_uri": "https://localhost:8080/",
          "height": 312
        },
        "id": "u3aDyOgMDSjm",
        "outputId": "5ea2ac57-c269-4314-d1b5-71b80fb21ab2"
      },
      "source": [
        "plt.scatter(x[:,0],x[:,1], marker='.', color='b')\n",
        "# plt.legend(loc='upper right')\n",
        "plt.title(\"Generated 2d data\")\n",
        "plt.xlabel(\"x1\")\n",
        "plt.ylabel(\"x2\")"
      ],
      "execution_count": 47,
      "outputs": [
        {
          "output_type": "execute_result",
          "data": {
            "text/plain": [
              "Text(0, 0.5, 'x2')"
            ]
          },
          "metadata": {
            "tags": []
          },
          "execution_count": 47
        },
        {
          "output_type": "display_data",
          "data": {
            "image/png": "[encoded data removed]",
            "text/plain": [
              "<Figure size 432x288 with 1 Axes>"
            ]
          },
          "metadata": {
            "tags": [],
            "needs_background": "light"
          }
        }
      ]
    },
    {
      "cell_type": "markdown",
      "metadata": {
        "id": "7YwQGw9WH6bn"
      },
      "source": [
        "Şimdi hedef verisini (target data) oluşturalım. Yani ürettiğimiz veriyi etiketleyelim (data annotation). Sınıflandırmayı dilediğimiz gibi yapabiliriz bu örnekte. Burada biz birim çember içersinde yer alan noktaları 1, dışında kalan noktaları 0 olarak etiketleyeceğiz."
      ]
    },
    {
      "cell_type": "code",
      "metadata": {
        "id": "NOsZ1cKDJWVJ"
      },
      "source": [
        "t = np.zeros((n,1))\n",
        "#print(t)\n",
        "for i, point in enumerate(x):\n",
        "  if (point[0]**2 + point[1]**2)**(0.5) <= 1:\n",
        "    t[i] = 1\n",
        "#print(\"Güncellenmiş hedef verisini yazdıralım.\")\n",
        "#print(t)"
      ],
      "execution_count": 48,
      "outputs": []
    },
    {
      "cell_type": "markdown",
      "metadata": {
        "id": "InKLI0KSJnC3"
      },
      "source": [
        "Şimdi tekrar 2b veriyi görselleştirelim ama bu sefer birim çemberin içinde kalan veriyi (yani 1 etiketine sahip olan noktaları) kırmızı renkte çizdirelim."
      ]
    },
    {
      "cell_type": "code",
      "metadata": {
        "colab": {
          "base_uri": "https://localhost:8080/",
          "height": 312
        },
        "id": "r4XoNsKBJn8w",
        "outputId": "30b695d4-6747-4fc2-f3fd-e5d24900f28e"
      },
      "source": [
        "for i, label in enumerate(t):\n",
        "  if (label):\n",
        "    plt.scatter(x[i,0],x[i,1], marker='.', color='r') # edgecolors='none'\n",
        "  else:\n",
        "    plt.scatter(x[i,0],x[i,1], marker='.', color='b') # edgecolors='none'\n",
        "plt.title(\"Generated 2d data\")\n",
        "plt.xlabel(\"x1\")\n",
        "plt.ylabel(\"x2\")"
      ],
      "execution_count": 49,
      "outputs": [
        {
          "output_type": "execute_result",
          "data": {
            "text/plain": [
              "Text(0, 0.5, 'x2')"
            ]
          },
          "metadata": {
            "tags": []
          },
          "execution_count": 49
        },
        {
          "output_type": "display_data",
          "data": {
            "image/png": "[encoded data removed]",
            "text/plain": [
              "<Figure size 432x288 with 1 Axes>"
            ]
          },
          "metadata": {
            "tags": [],
            "needs_background": "light"
          }
        }
      ]
    },
    {
      "cell_type": "markdown",
      "metadata": {
        "id": "yplcwlA-Lm-u"
      },
      "source": [
        "TF kütüphanesinin içerisinde yer alan Keras kütüphanesiyle bir tane çok katmanlı sinir ağı (multi-layer perceptron - MLP) oluşturalım. Giriş sayısının iki, çıkış sayısının bir olduğunu, gizli katman (hidden layer) sayısını ve bu katmanlardaki nöron sayısını (number of neurons) ve de hangi aktivasyon fonksiyonunu (activation function) kullandığımızı adım adım seçeceğiz."
      ]
    },
    {
      "cell_type": "code",
      "metadata": {
        "id": "FcAZNEqtLqw2"
      },
      "source": [
        "model = tf.keras.models.Sequential(layers=None, name='2d_classifier_MLP')\n",
        "model.add(tf.keras.layers.Dense(20, input_dim = 2, activation = 'tanh', name='HL1'))\n",
        "model.add(tf.keras.layers.Dense(30, activation = 'tanh', name='HL2'))\n",
        "model.add(tf.keras.layers.Dense(40, activation = 'tanh', name='HL3'))\n",
        "model.add(tf.keras.layers.Dense(30, activation = 'tanh', name='HL4'))\n",
        "model.add(tf.keras.layers.Dense(1, activation = 'tanh', name='outputLayer'))"
      ],
      "execution_count": 50,
      "outputs": []
    },
    {
      "cell_type": "markdown",
      "metadata": {
        "id": "0QRN8cNyL2wO"
      },
      "source": [
        "Yukarıdaki kodda yapay sinir ağımızın yapısını (structure) yani katman sayısı, katmanlardaki nöron miktarı, nöron çıkışlarında kullanılan aktivasyon fonksiyon tiplerini belirledik. Bir sonraki adım olarak öğrenme (learning) işlemini başlatacağız. Şimdi öğrenme işleminin nasıl olacağını belirleyelim."
      ]
    },
    {
      "cell_type": "code",
      "metadata": {
        "colab": {
          "base_uri": "https://localhost:8080/"
        },
        "id": "nAMKybeAL3oh",
        "outputId": "904a6af4-604a-4c79-e7cc-e999e07813a9"
      },
      "source": [
        "model.compile(optimizer='adam', loss='mean_squared_error', metrics='accuracy')\n",
        "model.summary()"
      ],
      "execution_count": 51,
      "outputs": [
        {
          "output_type": "stream",
          "text": [
            "Model: \"2d_classifier_MLP\"\n",
            "_________________________________________________________________\n",
            "Layer (type)                 Output Shape              Param #   \n",
            "=================================================================\n",
            "HL1 (Dense)                  (None, 20)                60        \n",
            "_________________________________________________________________\n",
            "HL2 (Dense)                  (None, 30)                630       \n",
            "_________________________________________________________________\n",
            "HL3 (Dense)                  (None, 40)                1240      \n",
            "_________________________________________________________________\n",
            "HL4 (Dense)                  (None, 30)                1230      \n",
            "_________________________________________________________________\n",
            "outputLayer (Dense)          (None, 1)                 31        \n",
            "=================================================================\n",
            "Total params: 3,191\n",
            "Trainable params: 3,191\n",
            "Non-trainable params: 0\n",
            "_________________________________________________________________\n"
          ],
          "name": "stdout"
        }
      ]
    },
    {
      "cell_type": "markdown",
      "metadata": {
        "id": "8TCZPNGzL_76"
      },
      "source": [
        "Son olarak konfigürasyonunu tamamladığımız çok katmanlı yapay sinir ağının eğitimini başlatıyoruz."
      ]
    },
    {
      "cell_type": "code",
      "metadata": {
        "colab": {
          "base_uri": "https://localhost:8080/"
        },
        "id": "g02yXBXcNqZr",
        "outputId": "f20c062a-7d9e-4553-8d68-40578760d891"
      },
      "source": [
        "history = model.fit(x, t, epochs=200, verbose=1, validation_split=0.2)"
      ],
      "execution_count": 52,
      "outputs": [
        {
          "output_type": "stream",
          "text": [
            "Epoch 1/200\n",
            "25/25 [==============================] - 1s 10ms/step - loss: 0.6144 - accuracy: 0.2316 - val_loss: 0.1947 - val_accuracy: 0.8400\n",
            "Epoch 2/200\n",
            "25/25 [==============================] - 0s 4ms/step - loss: 0.1765 - accuracy: 0.7905 - val_loss: 0.1565 - val_accuracy: 0.7900\n",
            "Epoch 3/200\n",
            "25/25 [==============================] - 0s 4ms/step - loss: 0.1809 - accuracy: 0.7501 - val_loss: 0.1545 - val_accuracy: 0.7950\n",
            "Epoch 4/200\n",
            "25/25 [==============================] - 0s 3ms/step - loss: 0.1667 - accuracy: 0.7681 - val_loss: 0.1522 - val_accuracy: 0.7900\n",
            "Epoch 5/200\n",
            "25/25 [==============================] - 0s 4ms/step - loss: 0.1524 - accuracy: 0.7960 - val_loss: 0.1521 - val_accuracy: 0.7900\n",
            "Epoch 6/200\n",
            "25/25 [==============================] - 0s 3ms/step - loss: 0.1554 - accuracy: 0.7804 - val_loss: 0.1477 - val_accuracy: 0.8050\n",
            "Epoch 7/200\n",
            "25/25 [==============================] - 0s 5ms/step - loss: 0.1586 - accuracy: 0.7857 - val_loss: 0.1462 - val_accuracy: 0.7950\n",
            "Epoch 8/200\n",
            "25/25 [==============================] - 0s 4ms/step - loss: 0.1453 - accuracy: 0.7894 - val_loss: 0.1429 - val_accuracy: 0.8350\n",
            "Epoch 9/200\n",
            "25/25 [==============================] - 0s 4ms/step - loss: 0.1399 - accuracy: 0.8061 - val_loss: 0.1370 - val_accuracy: 0.8000\n",
            "Epoch 10/200\n",
            "25/25 [==============================] - 0s 3ms/step - loss: 0.1369 - accuracy: 0.7848 - val_loss: 0.1326 - val_accuracy: 0.8450\n",
            "Epoch 11/200\n",
            "25/25 [==============================] - 0s 3ms/step - loss: 0.1334 - accuracy: 0.7779 - val_loss: 0.1322 - val_accuracy: 0.8500\n",
            "Epoch 12/200\n",
            "25/25 [==============================] - 0s 4ms/step - loss: 0.1279 - accuracy: 0.8147 - val_loss: 0.1259 - val_accuracy: 0.8450\n",
            "Epoch 13/200\n",
            "25/25 [==============================] - 0s 3ms/step - loss: 0.1321 - accuracy: 0.8287 - val_loss: 0.1262 - val_accuracy: 0.8600\n",
            "Epoch 14/200\n",
            "25/25 [==============================] - 0s 3ms/step - loss: 0.1242 - accuracy: 0.8359 - val_loss: 0.1214 - val_accuracy: 0.8350\n",
            "Epoch 15/200\n",
            "25/25 [==============================] - 0s 4ms/step - loss: 0.1172 - accuracy: 0.8311 - val_loss: 0.1277 - val_accuracy: 0.8250\n",
            "Epoch 16/200\n",
            "25/25 [==============================] - 0s 4ms/step - loss: 0.1229 - accuracy: 0.8259 - val_loss: 0.1211 - val_accuracy: 0.8300\n",
            "Epoch 17/200\n",
            "25/25 [==============================] - 0s 5ms/step - loss: 0.1128 - accuracy: 0.8451 - val_loss: 0.1119 - val_accuracy: 0.8600\n",
            "Epoch 18/200\n",
            "25/25 [==============================] - 0s 3ms/step - loss: 0.1030 - accuracy: 0.8861 - val_loss: 0.1030 - val_accuracy: 0.8900\n",
            "Epoch 19/200\n",
            "25/25 [==============================] - 0s 4ms/step - loss: 0.0914 - accuracy: 0.8949 - val_loss: 0.1036 - val_accuracy: 0.8600\n",
            "Epoch 20/200\n",
            "25/25 [==============================] - 0s 4ms/step - loss: 0.1038 - accuracy: 0.8523 - val_loss: 0.0954 - val_accuracy: 0.8900\n",
            "Epoch 21/200\n",
            "25/25 [==============================] - 0s 4ms/step - loss: 0.0904 - accuracy: 0.8958 - val_loss: 0.0936 - val_accuracy: 0.8900\n",
            "Epoch 22/200\n",
            "25/25 [==============================] - 0s 4ms/step - loss: 0.0800 - accuracy: 0.9123 - val_loss: 0.0884 - val_accuracy: 0.9000\n",
            "Epoch 23/200\n",
            "25/25 [==============================] - 0s 4ms/step - loss: 0.0859 - accuracy: 0.8869 - val_loss: 0.0906 - val_accuracy: 0.8900\n",
            "Epoch 24/200\n",
            "25/25 [==============================] - 0s 4ms/step - loss: 0.0657 - accuracy: 0.9289 - val_loss: 0.0926 - val_accuracy: 0.8850\n",
            "Epoch 25/200\n",
            "25/25 [==============================] - 0s 4ms/step - loss: 0.0790 - accuracy: 0.9012 - val_loss: 0.0913 - val_accuracy: 0.8850\n",
            "Epoch 26/200\n",
            "25/25 [==============================] - 0s 4ms/step - loss: 0.0715 - accuracy: 0.9187 - val_loss: 0.0832 - val_accuracy: 0.9000\n",
            "Epoch 27/200\n",
            "25/25 [==============================] - 0s 3ms/step - loss: 0.0630 - accuracy: 0.9307 - val_loss: 0.0801 - val_accuracy: 0.8950\n",
            "Epoch 28/200\n",
            "25/25 [==============================] - 0s 3ms/step - loss: 0.0589 - accuracy: 0.9368 - val_loss: 0.0841 - val_accuracy: 0.9050\n",
            "Epoch 29/200\n",
            "25/25 [==============================] - 0s 4ms/step - loss: 0.0597 - accuracy: 0.9337 - val_loss: 0.0764 - val_accuracy: 0.8950\n",
            "Epoch 30/200\n",
            "25/25 [==============================] - 0s 3ms/step - loss: 0.0586 - accuracy: 0.9265 - val_loss: 0.0702 - val_accuracy: 0.9000\n",
            "Epoch 31/200\n",
            "25/25 [==============================] - 0s 5ms/step - loss: 0.0538 - accuracy: 0.9420 - val_loss: 0.0734 - val_accuracy: 0.9250\n",
            "Epoch 32/200\n",
            "25/25 [==============================] - 0s 4ms/step - loss: 0.0587 - accuracy: 0.9411 - val_loss: 0.0664 - val_accuracy: 0.9100\n",
            "Epoch 33/200\n",
            "25/25 [==============================] - 0s 4ms/step - loss: 0.0530 - accuracy: 0.9317 - val_loss: 0.0720 - val_accuracy: 0.9100\n",
            "Epoch 34/200\n",
            "25/25 [==============================] - 0s 4ms/step - loss: 0.0530 - accuracy: 0.9336 - val_loss: 0.0672 - val_accuracy: 0.9050\n",
            "Epoch 35/200\n",
            "25/25 [==============================] - 0s 3ms/step - loss: 0.0511 - accuracy: 0.9383 - val_loss: 0.0730 - val_accuracy: 0.9050\n",
            "Epoch 36/200\n",
            "25/25 [==============================] - 0s 4ms/step - loss: 0.0526 - accuracy: 0.9428 - val_loss: 0.0634 - val_accuracy: 0.9300\n",
            "Epoch 37/200\n",
            "25/25 [==============================] - 0s 4ms/step - loss: 0.0435 - accuracy: 0.9400 - val_loss: 0.0668 - val_accuracy: 0.9050\n",
            "Epoch 38/200\n",
            "25/25 [==============================] - 0s 4ms/step - loss: 0.0502 - accuracy: 0.9475 - val_loss: 0.0657 - val_accuracy: 0.9250\n",
            "Epoch 39/200\n",
            "25/25 [==============================] - 0s 4ms/step - loss: 0.0453 - accuracy: 0.9574 - val_loss: 0.0651 - val_accuracy: 0.9100\n",
            "Epoch 40/200\n",
            "25/25 [==============================] - 0s 4ms/step - loss: 0.0583 - accuracy: 0.9300 - val_loss: 0.0686 - val_accuracy: 0.9050\n",
            "Epoch 41/200\n",
            "25/25 [==============================] - 0s 4ms/step - loss: 0.0510 - accuracy: 0.9461 - val_loss: 0.0598 - val_accuracy: 0.9400\n",
            "Epoch 42/200\n",
            "25/25 [==============================] - 0s 3ms/step - loss: 0.0511 - accuracy: 0.9361 - val_loss: 0.0627 - val_accuracy: 0.9250\n",
            "Epoch 43/200\n",
            "25/25 [==============================] - 0s 4ms/step - loss: 0.0497 - accuracy: 0.9467 - val_loss: 0.0667 - val_accuracy: 0.9150\n",
            "Epoch 44/200\n",
            "25/25 [==============================] - 0s 3ms/step - loss: 0.0544 - accuracy: 0.9306 - val_loss: 0.0622 - val_accuracy: 0.9350\n",
            "Epoch 45/200\n",
            "25/25 [==============================] - 0s 3ms/step - loss: 0.0528 - accuracy: 0.9431 - val_loss: 0.0655 - val_accuracy: 0.9150\n",
            "Epoch 46/200\n",
            "25/25 [==============================] - 0s 4ms/step - loss: 0.0427 - accuracy: 0.9603 - val_loss: 0.0607 - val_accuracy: 0.9150\n",
            "Epoch 47/200\n",
            "25/25 [==============================] - 0s 4ms/step - loss: 0.0456 - accuracy: 0.9557 - val_loss: 0.0589 - val_accuracy: 0.9150\n",
            "Epoch 48/200\n",
            "25/25 [==============================] - 0s 5ms/step - loss: 0.0531 - accuracy: 0.9425 - val_loss: 0.0599 - val_accuracy: 0.9100\n",
            "Epoch 49/200\n",
            "25/25 [==============================] - 0s 4ms/step - loss: 0.0511 - accuracy: 0.9452 - val_loss: 0.0661 - val_accuracy: 0.9100\n",
            "Epoch 50/200\n",
            "25/25 [==============================] - 0s 4ms/step - loss: 0.0543 - accuracy: 0.9320 - val_loss: 0.0593 - val_accuracy: 0.9350\n",
            "Epoch 51/200\n",
            "25/25 [==============================] - 0s 5ms/step - loss: 0.0451 - accuracy: 0.9566 - val_loss: 0.0589 - val_accuracy: 0.9350\n",
            "Epoch 52/200\n",
            "25/25 [==============================] - 0s 4ms/step - loss: 0.0509 - accuracy: 0.9347 - val_loss: 0.0692 - val_accuracy: 0.9200\n",
            "Epoch 53/200\n",
            "25/25 [==============================] - 0s 4ms/step - loss: 0.0439 - accuracy: 0.9507 - val_loss: 0.0581 - val_accuracy: 0.9350\n",
            "Epoch 54/200\n",
            "25/25 [==============================] - 0s 4ms/step - loss: 0.0502 - accuracy: 0.9301 - val_loss: 0.0627 - val_accuracy: 0.9150\n",
            "Epoch 55/200\n",
            "25/25 [==============================] - 0s 5ms/step - loss: 0.0546 - accuracy: 0.9304 - val_loss: 0.0595 - val_accuracy: 0.9300\n",
            "Epoch 56/200\n",
            "25/25 [==============================] - 0s 4ms/step - loss: 0.0435 - accuracy: 0.9574 - val_loss: 0.0711 - val_accuracy: 0.9100\n",
            "Epoch 57/200\n",
            "25/25 [==============================] - 0s 4ms/step - loss: 0.0508 - accuracy: 0.9407 - val_loss: 0.0685 - val_accuracy: 0.9000\n",
            "Epoch 58/200\n",
            "25/25 [==============================] - 0s 4ms/step - loss: 0.0507 - accuracy: 0.9319 - val_loss: 0.0691 - val_accuracy: 0.9100\n",
            "Epoch 59/200\n",
            "25/25 [==============================] - 0s 3ms/step - loss: 0.0482 - accuracy: 0.9450 - val_loss: 0.0634 - val_accuracy: 0.9050\n",
            "Epoch 60/200\n",
            "25/25 [==============================] - 0s 4ms/step - loss: 0.0436 - accuracy: 0.9500 - val_loss: 0.0614 - val_accuracy: 0.9200\n",
            "Epoch 61/200\n",
            "25/25 [==============================] - 0s 4ms/step - loss: 0.0493 - accuracy: 0.9378 - val_loss: 0.0690 - val_accuracy: 0.8850\n",
            "Epoch 62/200\n",
            "25/25 [==============================] - 0s 4ms/step - loss: 0.0503 - accuracy: 0.9317 - val_loss: 0.0576 - val_accuracy: 0.9300\n",
            "Epoch 63/200\n",
            "25/25 [==============================] - 0s 4ms/step - loss: 0.0473 - accuracy: 0.9446 - val_loss: 0.0636 - val_accuracy: 0.9100\n",
            "Epoch 64/200\n",
            "25/25 [==============================] - 0s 5ms/step - loss: 0.0367 - accuracy: 0.9609 - val_loss: 0.0599 - val_accuracy: 0.9200\n",
            "Epoch 65/200\n",
            "25/25 [==============================] - 0s 4ms/step - loss: 0.0424 - accuracy: 0.9535 - val_loss: 0.0578 - val_accuracy: 0.9050\n",
            "Epoch 66/200\n",
            "25/25 [==============================] - 0s 4ms/step - loss: 0.0437 - accuracy: 0.9525 - val_loss: 0.0574 - val_accuracy: 0.9300\n",
            "Epoch 67/200\n",
            "25/25 [==============================] - 0s 4ms/step - loss: 0.0431 - accuracy: 0.9575 - val_loss: 0.0563 - val_accuracy: 0.9250\n",
            "Epoch 68/200\n",
            "25/25 [==============================] - 0s 4ms/step - loss: 0.0419 - accuracy: 0.9597 - val_loss: 0.0528 - val_accuracy: 0.9300\n",
            "Epoch 69/200\n",
            "25/25 [==============================] - 0s 4ms/step - loss: 0.0442 - accuracy: 0.9589 - val_loss: 0.0549 - val_accuracy: 0.9300\n",
            "Epoch 70/200\n",
            "25/25 [==============================] - 0s 4ms/step - loss: 0.0408 - accuracy: 0.9548 - val_loss: 0.0601 - val_accuracy: 0.9100\n",
            "Epoch 71/200\n",
            "25/25 [==============================] - 0s 3ms/step - loss: 0.0415 - accuracy: 0.9450 - val_loss: 0.0510 - val_accuracy: 0.9350\n",
            "Epoch 72/200\n",
            "25/25 [==============================] - 0s 4ms/step - loss: 0.0380 - accuracy: 0.9671 - val_loss: 0.0527 - val_accuracy: 0.9350\n",
            "Epoch 73/200\n",
            "25/25 [==============================] - 0s 4ms/step - loss: 0.0419 - accuracy: 0.9543 - val_loss: 0.0559 - val_accuracy: 0.9100\n",
            "Epoch 74/200\n",
            "25/25 [==============================] - 0s 4ms/step - loss: 0.0398 - accuracy: 0.9646 - val_loss: 0.0537 - val_accuracy: 0.9400\n",
            "Epoch 75/200\n",
            "25/25 [==============================] - 0s 5ms/step - loss: 0.0442 - accuracy: 0.9485 - val_loss: 0.0528 - val_accuracy: 0.9450\n",
            "Epoch 76/200\n",
            "25/25 [==============================] - 0s 3ms/step - loss: 0.0456 - accuracy: 0.9518 - val_loss: 0.0522 - val_accuracy: 0.9450\n",
            "Epoch 77/200\n",
            "25/25 [==============================] - 0s 4ms/step - loss: 0.0460 - accuracy: 0.9408 - val_loss: 0.0594 - val_accuracy: 0.8950\n",
            "Epoch 78/200\n",
            "25/25 [==============================] - 0s 4ms/step - loss: 0.0399 - accuracy: 0.9601 - val_loss: 0.0556 - val_accuracy: 0.9300\n",
            "Epoch 79/200\n",
            "25/25 [==============================] - 0s 4ms/step - loss: 0.0444 - accuracy: 0.9552 - val_loss: 0.0591 - val_accuracy: 0.9250\n",
            "Epoch 80/200\n",
            "25/25 [==============================] - 0s 4ms/step - loss: 0.0485 - accuracy: 0.9354 - val_loss: 0.0603 - val_accuracy: 0.9100\n",
            "Epoch 81/200\n",
            "25/25 [==============================] - 0s 4ms/step - loss: 0.0471 - accuracy: 0.9379 - val_loss: 0.0534 - val_accuracy: 0.9350\n",
            "Epoch 82/200\n",
            "25/25 [==============================] - 0s 5ms/step - loss: 0.0402 - accuracy: 0.9563 - val_loss: 0.0523 - val_accuracy: 0.9350\n",
            "Epoch 83/200\n",
            "25/25 [==============================] - 0s 3ms/step - loss: 0.0375 - accuracy: 0.9526 - val_loss: 0.0534 - val_accuracy: 0.9300\n",
            "Epoch 84/200\n",
            "25/25 [==============================] - 0s 5ms/step - loss: 0.0452 - accuracy: 0.9405 - val_loss: 0.0520 - val_accuracy: 0.9450\n",
            "Epoch 85/200\n",
            "25/25 [==============================] - 0s 4ms/step - loss: 0.0416 - accuracy: 0.9505 - val_loss: 0.0519 - val_accuracy: 0.9300\n",
            "Epoch 86/200\n",
            "25/25 [==============================] - 0s 4ms/step - loss: 0.0380 - accuracy: 0.9665 - val_loss: 0.0641 - val_accuracy: 0.8900\n",
            "Epoch 87/200\n",
            "25/25 [==============================] - 0s 4ms/step - loss: 0.0448 - accuracy: 0.9535 - val_loss: 0.0527 - val_accuracy: 0.9200\n",
            "Epoch 88/200\n",
            "25/25 [==============================] - 0s 3ms/step - loss: 0.0339 - accuracy: 0.9632 - val_loss: 0.0487 - val_accuracy: 0.9150\n",
            "Epoch 89/200\n",
            "25/25 [==============================] - 0s 4ms/step - loss: 0.0317 - accuracy: 0.9746 - val_loss: 0.0489 - val_accuracy: 0.9300\n",
            "Epoch 90/200\n",
            "25/25 [==============================] - 0s 4ms/step - loss: 0.0376 - accuracy: 0.9625 - val_loss: 0.0494 - val_accuracy: 0.9300\n",
            "Epoch 91/200\n",
            "25/25 [==============================] - 0s 4ms/step - loss: 0.0377 - accuracy: 0.9584 - val_loss: 0.0530 - val_accuracy: 0.9250\n",
            "Epoch 92/200\n",
            "25/25 [==============================] - 0s 5ms/step - loss: 0.0445 - accuracy: 0.9392 - val_loss: 0.0532 - val_accuracy: 0.9300\n",
            "Epoch 93/200\n",
            "25/25 [==============================] - 0s 4ms/step - loss: 0.0395 - accuracy: 0.9515 - val_loss: 0.0456 - val_accuracy: 0.9300\n",
            "Epoch 94/200\n",
            "25/25 [==============================] - 0s 4ms/step - loss: 0.0350 - accuracy: 0.9650 - val_loss: 0.0497 - val_accuracy: 0.9400\n",
            "Epoch 95/200\n",
            "25/25 [==============================] - 0s 4ms/step - loss: 0.0345 - accuracy: 0.9583 - val_loss: 0.0468 - val_accuracy: 0.9350\n",
            "Epoch 96/200\n",
            "25/25 [==============================] - 0s 5ms/step - loss: 0.0345 - accuracy: 0.9583 - val_loss: 0.0525 - val_accuracy: 0.9250\n",
            "Epoch 97/200\n",
            "25/25 [==============================] - 0s 4ms/step - loss: 0.0377 - accuracy: 0.9546 - val_loss: 0.0458 - val_accuracy: 0.9400\n",
            "Epoch 98/200\n",
            "25/25 [==============================] - 0s 4ms/step - loss: 0.0369 - accuracy: 0.9529 - val_loss: 0.0472 - val_accuracy: 0.9400\n",
            "Epoch 99/200\n",
            "25/25 [==============================] - 0s 4ms/step - loss: 0.0359 - accuracy: 0.9627 - val_loss: 0.0482 - val_accuracy: 0.9300\n",
            "Epoch 100/200\n",
            "25/25 [==============================] - 0s 4ms/step - loss: 0.0363 - accuracy: 0.9672 - val_loss: 0.0436 - val_accuracy: 0.9300\n",
            "Epoch 101/200\n",
            "25/25 [==============================] - 0s 5ms/step - loss: 0.0336 - accuracy: 0.9659 - val_loss: 0.0467 - val_accuracy: 0.9400\n",
            "Epoch 102/200\n",
            "25/25 [==============================] - 0s 4ms/step - loss: 0.0356 - accuracy: 0.9642 - val_loss: 0.0450 - val_accuracy: 0.9400\n",
            "Epoch 103/200\n",
            "25/25 [==============================] - 0s 4ms/step - loss: 0.0293 - accuracy: 0.9740 - val_loss: 0.0454 - val_accuracy: 0.9200\n",
            "Epoch 104/200\n",
            "25/25 [==============================] - 0s 3ms/step - loss: 0.0347 - accuracy: 0.9698 - val_loss: 0.0464 - val_accuracy: 0.9400\n",
            "Epoch 105/200\n",
            "25/25 [==============================] - 0s 5ms/step - loss: 0.0373 - accuracy: 0.9552 - val_loss: 0.0435 - val_accuracy: 0.9350\n",
            "Epoch 106/200\n",
            "25/25 [==============================] - 0s 4ms/step - loss: 0.0299 - accuracy: 0.9761 - val_loss: 0.0497 - val_accuracy: 0.9300\n",
            "Epoch 107/200\n",
            "25/25 [==============================] - 0s 4ms/step - loss: 0.0349 - accuracy: 0.9685 - val_loss: 0.0411 - val_accuracy: 0.9400\n",
            "Epoch 108/200\n",
            "25/25 [==============================] - 0s 4ms/step - loss: 0.0345 - accuracy: 0.9691 - val_loss: 0.0466 - val_accuracy: 0.9350\n",
            "Epoch 109/200\n",
            "25/25 [==============================] - 0s 3ms/step - loss: 0.0353 - accuracy: 0.9662 - val_loss: 0.0431 - val_accuracy: 0.9400\n",
            "Epoch 110/200\n",
            "25/25 [==============================] - 0s 4ms/step - loss: 0.0306 - accuracy: 0.9640 - val_loss: 0.0433 - val_accuracy: 0.9200\n",
            "Epoch 111/200\n",
            "25/25 [==============================] - 0s 3ms/step - loss: 0.0291 - accuracy: 0.9748 - val_loss: 0.0398 - val_accuracy: 0.9550\n",
            "Epoch 112/200\n",
            "25/25 [==============================] - 0s 4ms/step - loss: 0.0359 - accuracy: 0.9623 - val_loss: 0.0397 - val_accuracy: 0.9550\n",
            "Epoch 113/200\n",
            "25/25 [==============================] - 0s 4ms/step - loss: 0.0376 - accuracy: 0.9545 - val_loss: 0.0390 - val_accuracy: 0.9400\n",
            "Epoch 114/200\n",
            "25/25 [==============================] - 0s 3ms/step - loss: 0.0331 - accuracy: 0.9716 - val_loss: 0.0389 - val_accuracy: 0.9500\n",
            "Epoch 115/200\n",
            "25/25 [==============================] - 0s 4ms/step - loss: 0.0297 - accuracy: 0.9766 - val_loss: 0.0417 - val_accuracy: 0.9450\n",
            "Epoch 116/200\n",
            "25/25 [==============================] - 0s 4ms/step - loss: 0.0290 - accuracy: 0.9723 - val_loss: 0.0423 - val_accuracy: 0.9350\n",
            "Epoch 117/200\n",
            "25/25 [==============================] - 0s 4ms/step - loss: 0.0318 - accuracy: 0.9619 - val_loss: 0.0406 - val_accuracy: 0.9400\n",
            "Epoch 118/200\n",
            "25/25 [==============================] - 0s 4ms/step - loss: 0.0335 - accuracy: 0.9529 - val_loss: 0.0424 - val_accuracy: 0.9400\n",
            "Epoch 119/200\n",
            "25/25 [==============================] - 0s 3ms/step - loss: 0.0321 - accuracy: 0.9699 - val_loss: 0.0585 - val_accuracy: 0.9150\n",
            "Epoch 120/200\n",
            "25/25 [==============================] - 0s 5ms/step - loss: 0.0451 - accuracy: 0.9346 - val_loss: 0.0383 - val_accuracy: 0.9550\n",
            "Epoch 121/200\n",
            "25/25 [==============================] - 0s 3ms/step - loss: 0.0355 - accuracy: 0.9565 - val_loss: 0.0469 - val_accuracy: 0.9200\n",
            "Epoch 122/200\n",
            "25/25 [==============================] - 0s 3ms/step - loss: 0.0424 - accuracy: 0.9472 - val_loss: 0.0425 - val_accuracy: 0.9300\n",
            "Epoch 123/200\n",
            "25/25 [==============================] - 0s 3ms/step - loss: 0.0275 - accuracy: 0.9668 - val_loss: 0.0396 - val_accuracy: 0.9500\n",
            "Epoch 124/200\n",
            "25/25 [==============================] - 0s 3ms/step - loss: 0.0304 - accuracy: 0.9739 - val_loss: 0.0431 - val_accuracy: 0.9350\n",
            "Epoch 125/200\n",
            "25/25 [==============================] - 0s 4ms/step - loss: 0.0313 - accuracy: 0.9658 - val_loss: 0.0384 - val_accuracy: 0.9450\n",
            "Epoch 126/200\n",
            "25/25 [==============================] - 0s 4ms/step - loss: 0.0305 - accuracy: 0.9734 - val_loss: 0.0358 - val_accuracy: 0.9450\n",
            "Epoch 127/200\n",
            "25/25 [==============================] - 0s 4ms/step - loss: 0.0279 - accuracy: 0.9674 - val_loss: 0.0371 - val_accuracy: 0.9500\n",
            "Epoch 128/200\n",
            "25/25 [==============================] - 0s 3ms/step - loss: 0.0289 - accuracy: 0.9712 - val_loss: 0.0370 - val_accuracy: 0.9450\n",
            "Epoch 129/200\n",
            "25/25 [==============================] - 0s 3ms/step - loss: 0.0269 - accuracy: 0.9761 - val_loss: 0.0364 - val_accuracy: 0.9450\n",
            "Epoch 130/200\n",
            "25/25 [==============================] - 0s 4ms/step - loss: 0.0303 - accuracy: 0.9802 - val_loss: 0.0366 - val_accuracy: 0.9600\n",
            "Epoch 131/200\n",
            "25/25 [==============================] - 0s 3ms/step - loss: 0.0319 - accuracy: 0.9637 - val_loss: 0.0394 - val_accuracy: 0.9450\n",
            "Epoch 132/200\n",
            "25/25 [==============================] - 0s 5ms/step - loss: 0.0351 - accuracy: 0.9621 - val_loss: 0.0359 - val_accuracy: 0.9500\n",
            "Epoch 133/200\n",
            "25/25 [==============================] - 0s 3ms/step - loss: 0.0314 - accuracy: 0.9675 - val_loss: 0.0359 - val_accuracy: 0.9550\n",
            "Epoch 134/200\n",
            "25/25 [==============================] - 0s 4ms/step - loss: 0.0257 - accuracy: 0.9811 - val_loss: 0.0384 - val_accuracy: 0.9450\n",
            "Epoch 135/200\n",
            "25/25 [==============================] - 0s 5ms/step - loss: 0.0293 - accuracy: 0.9691 - val_loss: 0.0375 - val_accuracy: 0.9550\n",
            "Epoch 136/200\n",
            "25/25 [==============================] - 0s 5ms/step - loss: 0.0279 - accuracy: 0.9712 - val_loss: 0.0343 - val_accuracy: 0.9600\n",
            "Epoch 137/200\n",
            "25/25 [==============================] - 0s 4ms/step - loss: 0.0272 - accuracy: 0.9704 - val_loss: 0.0325 - val_accuracy: 0.9600\n",
            "Epoch 138/200\n",
            "25/25 [==============================] - 0s 3ms/step - loss: 0.0311 - accuracy: 0.9640 - val_loss: 0.0355 - val_accuracy: 0.9550\n",
            "Epoch 139/200\n",
            "25/25 [==============================] - 0s 4ms/step - loss: 0.0247 - accuracy: 0.9759 - val_loss: 0.0336 - val_accuracy: 0.9450\n",
            "Epoch 140/200\n",
            "25/25 [==============================] - 0s 4ms/step - loss: 0.0255 - accuracy: 0.9764 - val_loss: 0.0321 - val_accuracy: 0.9500\n",
            "Epoch 141/200\n",
            "25/25 [==============================] - 0s 4ms/step - loss: 0.0268 - accuracy: 0.9766 - val_loss: 0.0320 - val_accuracy: 0.9550\n",
            "Epoch 142/200\n",
            "25/25 [==============================] - 0s 4ms/step - loss: 0.0275 - accuracy: 0.9756 - val_loss: 0.0320 - val_accuracy: 0.9500\n",
            "Epoch 143/200\n",
            "25/25 [==============================] - 0s 4ms/step - loss: 0.0276 - accuracy: 0.9668 - val_loss: 0.0390 - val_accuracy: 0.9450\n",
            "Epoch 144/200\n",
            "25/25 [==============================] - 0s 5ms/step - loss: 0.0317 - accuracy: 0.9656 - val_loss: 0.0299 - val_accuracy: 0.9650\n",
            "Epoch 145/200\n",
            "25/25 [==============================] - 0s 3ms/step - loss: 0.0228 - accuracy: 0.9832 - val_loss: 0.0333 - val_accuracy: 0.9500\n",
            "Epoch 146/200\n",
            "25/25 [==============================] - 0s 4ms/step - loss: 0.0260 - accuracy: 0.9742 - val_loss: 0.0530 - val_accuracy: 0.9200\n",
            "Epoch 147/200\n",
            "25/25 [==============================] - 0s 3ms/step - loss: 0.0406 - accuracy: 0.9507 - val_loss: 0.0343 - val_accuracy: 0.9550\n",
            "Epoch 148/200\n",
            "25/25 [==============================] - 0s 4ms/step - loss: 0.0344 - accuracy: 0.9556 - val_loss: 0.0314 - val_accuracy: 0.9600\n",
            "Epoch 149/200\n",
            "25/25 [==============================] - 0s 4ms/step - loss: 0.0239 - accuracy: 0.9780 - val_loss: 0.0385 - val_accuracy: 0.9450\n",
            "Epoch 150/200\n",
            "25/25 [==============================] - 0s 4ms/step - loss: 0.0299 - accuracy: 0.9705 - val_loss: 0.0343 - val_accuracy: 0.9500\n",
            "Epoch 151/200\n",
            "25/25 [==============================] - 0s 5ms/step - loss: 0.0299 - accuracy: 0.9568 - val_loss: 0.0365 - val_accuracy: 0.9400\n",
            "Epoch 152/200\n",
            "25/25 [==============================] - 0s 4ms/step - loss: 0.0317 - accuracy: 0.9588 - val_loss: 0.0299 - val_accuracy: 0.9550\n",
            "Epoch 153/200\n",
            "25/25 [==============================] - 0s 4ms/step - loss: 0.0298 - accuracy: 0.9701 - val_loss: 0.0311 - val_accuracy: 0.9500\n",
            "Epoch 154/200\n",
            "25/25 [==============================] - 0s 4ms/step - loss: 0.0238 - accuracy: 0.9789 - val_loss: 0.0313 - val_accuracy: 0.9550\n",
            "Epoch 155/200\n",
            "25/25 [==============================] - 0s 5ms/step - loss: 0.0301 - accuracy: 0.9584 - val_loss: 0.0319 - val_accuracy: 0.9600\n",
            "Epoch 156/200\n",
            "25/25 [==============================] - 0s 4ms/step - loss: 0.0223 - accuracy: 0.9763 - val_loss: 0.0340 - val_accuracy: 0.9550\n",
            "Epoch 157/200\n",
            "25/25 [==============================] - 0s 4ms/step - loss: 0.0268 - accuracy: 0.9691 - val_loss: 0.0340 - val_accuracy: 0.9500\n",
            "Epoch 158/200\n",
            "25/25 [==============================] - 0s 4ms/step - loss: 0.0332 - accuracy: 0.9547 - val_loss: 0.0428 - val_accuracy: 0.9400\n",
            "Epoch 159/200\n",
            "25/25 [==============================] - 0s 5ms/step - loss: 0.0323 - accuracy: 0.9604 - val_loss: 0.0396 - val_accuracy: 0.9450\n",
            "Epoch 160/200\n",
            "25/25 [==============================] - 0s 4ms/step - loss: 0.0303 - accuracy: 0.9624 - val_loss: 0.0423 - val_accuracy: 0.9400\n",
            "Epoch 161/200\n",
            "25/25 [==============================] - 0s 5ms/step - loss: 0.0308 - accuracy: 0.9617 - val_loss: 0.0453 - val_accuracy: 0.9350\n",
            "Epoch 162/200\n",
            "25/25 [==============================] - 0s 4ms/step - loss: 0.0378 - accuracy: 0.9553 - val_loss: 0.0410 - val_accuracy: 0.9400\n",
            "Epoch 163/200\n",
            "25/25 [==============================] - 0s 4ms/step - loss: 0.0317 - accuracy: 0.9565 - val_loss: 0.0296 - val_accuracy: 0.9500\n",
            "Epoch 164/200\n",
            "25/25 [==============================] - 0s 4ms/step - loss: 0.0235 - accuracy: 0.9722 - val_loss: 0.0328 - val_accuracy: 0.9600\n",
            "Epoch 165/200\n",
            "25/25 [==============================] - 0s 4ms/step - loss: 0.0245 - accuracy: 0.9790 - val_loss: 0.0314 - val_accuracy: 0.9500\n",
            "Epoch 166/200\n",
            "25/25 [==============================] - 0s 3ms/step - loss: 0.0269 - accuracy: 0.9691 - val_loss: 0.0298 - val_accuracy: 0.9650\n",
            "Epoch 167/200\n",
            "25/25 [==============================] - 0s 4ms/step - loss: 0.0236 - accuracy: 0.9772 - val_loss: 0.0396 - val_accuracy: 0.9500\n",
            "Epoch 168/200\n",
            "25/25 [==============================] - 0s 5ms/step - loss: 0.0260 - accuracy: 0.9668 - val_loss: 0.0318 - val_accuracy: 0.9650\n",
            "Epoch 169/200\n",
            "25/25 [==============================] - 0s 4ms/step - loss: 0.0244 - accuracy: 0.9726 - val_loss: 0.0327 - val_accuracy: 0.9450\n",
            "Epoch 170/200\n",
            "25/25 [==============================] - 0s 4ms/step - loss: 0.0213 - accuracy: 0.9726 - val_loss: 0.0308 - val_accuracy: 0.9500\n",
            "Epoch 171/200\n",
            "25/25 [==============================] - 0s 3ms/step - loss: 0.0263 - accuracy: 0.9617 - val_loss: 0.0266 - val_accuracy: 0.9700\n",
            "Epoch 172/200\n",
            "25/25 [==============================] - 0s 5ms/step - loss: 0.0235 - accuracy: 0.9738 - val_loss: 0.0327 - val_accuracy: 0.9500\n",
            "Epoch 173/200\n",
            "25/25 [==============================] - 0s 4ms/step - loss: 0.0260 - accuracy: 0.9679 - val_loss: 0.0324 - val_accuracy: 0.9500\n",
            "Epoch 174/200\n",
            "25/25 [==============================] - 0s 5ms/step - loss: 0.0235 - accuracy: 0.9766 - val_loss: 0.0278 - val_accuracy: 0.9750\n",
            "Epoch 175/200\n",
            "25/25 [==============================] - 0s 3ms/step - loss: 0.0186 - accuracy: 0.9842 - val_loss: 0.0289 - val_accuracy: 0.9700\n",
            "Epoch 176/200\n",
            "25/25 [==============================] - 0s 5ms/step - loss: 0.0254 - accuracy: 0.9732 - val_loss: 0.0306 - val_accuracy: 0.9600\n",
            "Epoch 177/200\n",
            "25/25 [==============================] - 0s 4ms/step - loss: 0.0246 - accuracy: 0.9788 - val_loss: 0.0358 - val_accuracy: 0.9500\n",
            "Epoch 178/200\n",
            "25/25 [==============================] - 0s 4ms/step - loss: 0.0229 - accuracy: 0.9856 - val_loss: 0.0301 - val_accuracy: 0.9600\n",
            "Epoch 179/200\n",
            "25/25 [==============================] - 0s 5ms/step - loss: 0.0248 - accuracy: 0.9752 - val_loss: 0.0241 - val_accuracy: 0.9850\n",
            "Epoch 180/200\n",
            "25/25 [==============================] - 0s 4ms/step - loss: 0.0206 - accuracy: 0.9815 - val_loss: 0.0278 - val_accuracy: 0.9550\n",
            "Epoch 181/200\n",
            "25/25 [==============================] - 0s 4ms/step - loss: 0.0213 - accuracy: 0.9852 - val_loss: 0.0287 - val_accuracy: 0.9500\n",
            "Epoch 182/200\n",
            "25/25 [==============================] - 0s 3ms/step - loss: 0.0294 - accuracy: 0.9650 - val_loss: 0.0307 - val_accuracy: 0.9550\n",
            "Epoch 183/200\n",
            "25/25 [==============================] - 0s 5ms/step - loss: 0.0241 - accuracy: 0.9695 - val_loss: 0.0252 - val_accuracy: 0.9750\n",
            "Epoch 184/200\n",
            "25/25 [==============================] - 0s 4ms/step - loss: 0.0226 - accuracy: 0.9797 - val_loss: 0.0322 - val_accuracy: 0.9600\n",
            "Epoch 185/200\n",
            "25/25 [==============================] - 0s 4ms/step - loss: 0.0226 - accuracy: 0.9754 - val_loss: 0.0275 - val_accuracy: 0.9650\n",
            "Epoch 186/200\n",
            "25/25 [==============================] - 0s 4ms/step - loss: 0.0241 - accuracy: 0.9668 - val_loss: 0.0335 - val_accuracy: 0.9500\n",
            "Epoch 187/200\n",
            "25/25 [==============================] - 0s 5ms/step - loss: 0.0251 - accuracy: 0.9763 - val_loss: 0.0231 - val_accuracy: 0.9600\n",
            "Epoch 188/200\n",
            "25/25 [==============================] - 0s 4ms/step - loss: 0.0216 - accuracy: 0.9749 - val_loss: 0.0266 - val_accuracy: 0.9650\n",
            "Epoch 189/200\n",
            "25/25 [==============================] - 0s 4ms/step - loss: 0.0249 - accuracy: 0.9697 - val_loss: 0.0319 - val_accuracy: 0.9500\n",
            "Epoch 190/200\n",
            "25/25 [==============================] - 0s 5ms/step - loss: 0.0226 - accuracy: 0.9704 - val_loss: 0.0279 - val_accuracy: 0.9700\n",
            "Epoch 191/200\n",
            "25/25 [==============================] - 0s 4ms/step - loss: 0.0220 - accuracy: 0.9765 - val_loss: 0.0307 - val_accuracy: 0.9650\n",
            "Epoch 192/200\n",
            "25/25 [==============================] - 0s 4ms/step - loss: 0.0207 - accuracy: 0.9777 - val_loss: 0.0279 - val_accuracy: 0.9550\n",
            "Epoch 193/200\n",
            "25/25 [==============================] - 0s 3ms/step - loss: 0.0229 - accuracy: 0.9772 - val_loss: 0.0234 - val_accuracy: 0.9650\n",
            "Epoch 194/200\n",
            "25/25 [==============================] - 0s 5ms/step - loss: 0.0191 - accuracy: 0.9852 - val_loss: 0.0317 - val_accuracy: 0.9550\n",
            "Epoch 195/200\n",
            "25/25 [==============================] - 0s 4ms/step - loss: 0.0211 - accuracy: 0.9752 - val_loss: 0.0290 - val_accuracy: 0.9650\n",
            "Epoch 196/200\n",
            "25/25 [==============================] - 0s 4ms/step - loss: 0.0252 - accuracy: 0.9705 - val_loss: 0.0348 - val_accuracy: 0.9650\n",
            "Epoch 197/200\n",
            "25/25 [==============================] - 0s 5ms/step - loss: 0.0250 - accuracy: 0.9705 - val_loss: 0.0297 - val_accuracy: 0.9550\n",
            "Epoch 198/200\n",
            "25/25 [==============================] - 0s 3ms/step - loss: 0.0192 - accuracy: 0.9758 - val_loss: 0.0309 - val_accuracy: 0.9700\n",
            "Epoch 199/200\n",
            "25/25 [==============================] - 0s 4ms/step - loss: 0.0253 - accuracy: 0.9694 - val_loss: 0.0249 - val_accuracy: 0.9650\n",
            "Epoch 200/200\n",
            "25/25 [==============================] - 0s 4ms/step - loss: 0.0198 - accuracy: 0.9766 - val_loss: 0.0259 - val_accuracy: 0.9550\n"
          ],
          "name": "stdout"
        }
      ]
    },
    {
      "cell_type": "code",
      "metadata": {
        "colab": {
          "base_uri": "https://localhost:8080/",
          "height": 312
        },
        "id": "v0XnNHpzN2vi",
        "outputId": "ab59f535-6253-4ae4-a8f0-164908d14fc2"
      },
      "source": [
        "lossCurve = history.history[\"loss\"]\n",
        "plt.plot(lossCurve, label=\"Train\")\n",
        "# plt.legend(loc='upper right')\n",
        "plt.title(\"Loss function\")\n",
        "plt.xlabel(\"epoch number\")"
      ],
      "execution_count": 53,
      "outputs": [
        {
          "output_type": "execute_result",
          "data": {
            "text/plain": [
              "Text(0.5, 0, 'epoch number')"
            ]
          },
          "metadata": {
            "tags": []
          },
          "execution_count": 53
        },
        {
          "output_type": "display_data",
          "data": {
            "image/png": "[encoded data removed]",
            "text/plain": [
              "<Figure size 432x288 with 1 Axes>"
            ]
          },
          "metadata": {
            "tags": [],
            "needs_background": "light"
          }
        }
      ]
    },
    {
      "cell_type": "code",
      "metadata": {
        "colab": {
          "base_uri": "https://localhost:8080/",
          "height": 296
        },
        "id": "9cFBn3ulPMiB",
        "outputId": "0c326c0a-97eb-4bcd-a5ce-80fbdc13f300"
      },
      "source": [
        "accuracyCurve = history.history[\"accuracy\"]\n",
        "plt.plot(accuracyCurve, label=\"Accuracy\")\n",
        "# plt.legend(loc='upper right')\n",
        "plt.ylabel(\"accuracy\")\n",
        "plt.xlabel(\"epoch number\")"
      ],
      "execution_count": 54,
      "outputs": [
        {
          "output_type": "execute_result",
          "data": {
            "text/plain": [
              "Text(0.5, 0, 'epoch number')"
            ]
          },
          "metadata": {
            "tags": []
          },
          "execution_count": 54
        },
        {
          "output_type": "display_data",
          "data": {
            "image/png": "[encoded data removed]",
            "text/plain": [
              "<Figure size 432x288 with 1 Axes>"
            ]
          },
          "metadata": {
            "tags": [],
            "needs_background": "light"
          }
        }
      ]
    },
    {
      "cell_type": "markdown",
      "metadata": {
        "id": "HYwAle53RNtc"
      },
      "source": [
        "Şimdi eğitimi tamamlanmış çok katmanlı yapay sinir ağımızı test edelim."
      ]
    },
    {
      "cell_type": "code",
      "metadata": {
        "colab": {
          "base_uri": "https://localhost:8080/",
          "height": 312
        },
        "id": "UBeIkFx-RQMI",
        "outputId": "b902e101-9411-44dd-f880-8ceb788d7dd0"
      },
      "source": [
        "y = model.predict(x).round()\n",
        "plt.scatter(x[:,0],x[:,1], marker='.', color='b')\n",
        "# plt.legend(loc='upper right')\n",
        "plt.title(\"Generated 2d data\")\n",
        "plt.xlabel(\"x1\")\n",
        "plt.ylabel(\"x2\")\n",
        "\n",
        "for i, label in enumerate(t):\n",
        "  if (label != y[i]):\n",
        "    plt.scatter(x[i,0],x[i,1], marker='o', color='r') # edgecolors='none'\n",
        "plt.title(\"Generated 2d data\")\n",
        "plt.xlabel(\"x1\")\n",
        "plt.ylabel(\"x2\")"
      ],
      "execution_count": 55,
      "outputs": [
        {
          "output_type": "execute_result",
          "data": {
            "text/plain": [
              "Text(0, 0.5, 'x2')"
            ]
          },
          "metadata": {
            "tags": []
          },
          "execution_count": 55
        },
        {
          "output_type": "display_data",
          "data": {
            "image/png": "[encoded data removed]",
            "text/plain": [
              "<Figure size 432x288 with 1 Axes>"
            ]
          },
          "metadata": {
            "tags": [],
            "needs_background": "light"
          }
        }
      ]
    }
  ]
}